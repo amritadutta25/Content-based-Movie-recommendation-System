{
 "cells": [
  {
   "cell_type": "code",
   "execution_count": null,
   "metadata": {},
   "outputs": [],
   "source": [
    "import requests\n",
    "import json\n",
    "from time import sleep\n",
    "from random import random \n",
    "import pandas as pd\n"
   ]
  },
  {
   "cell_type": "code",
   "execution_count": null,
   "metadata": {},
   "outputs": [],
   "source": [
    "#This has to be run only for scraping!!!! not otherwise \n",
    "url_movies='https://api.themoviedb.org/3/discover/movie?api_key=-----&include_video=false&page=p&primary_release_date.gte=2018-04-01&primary_release_date.lte=2018-09-30'\n",
    "# #getting the results of page one\n",
    "# first_page=json.loads(requests.get(url_movies).content.decode('utf-8'))\n",
    "# from time import sleep\n",
    "# from random import random                        \n",
    "results=[]\n",
    "# total_pages=first_page['total_pages'] #get the total pages so that we know how many times the loop has to be executed\n",
    "\n",
    "for i in range(293,417):\n",
    "    print(i)\n",
    "    sleep(random())\n",
    "    page=json.loads(requests.get(url_movies+'&page=%s'%(i+1)).content.decode('utf-8')) \n",
    "    r=page['results']\n",
    "    for j in r:\n",
    "        f=j['id']\n",
    "        #print(f)\n",
    "        sleep(random())\n",
    "        url='https://api.themoviedb.org/3/movie/%s/credits?api_key=-----' % f\n",
    "        d=json.loads(requests.get(url).content.decode('utf-8'))\n",
    "        sleep(random())\n",
    "        url='https://api.themoviedb.org/3/movie/%s?api_key=-----' % f\n",
    "        d.update(json.loads(requests.get(url).content.decode('utf-8')))\n",
    "        results.append(d) "
   ]
  },
  {
   "cell_type": "code",
   "execution_count": null,
   "metadata": {},
   "outputs": [],
   "source": [
    "outF=open(\"movies_apr18_sep18_i-293_.txt\", \"a\") #***\n",
    "outF.writelines(json.dumps(results))\n",
    "outF.close()"
   ]
  },
  {
   "cell_type": "code",
   "execution_count": null,
   "metadata": {},
   "outputs": [],
   "source": []
  },
  {
   "cell_type": "code",
   "execution_count": null,
   "metadata": {},
   "outputs": [],
   "source": []
  }
 ],
 "metadata": {
  "kernelspec": {
   "display_name": "Python 3",
   "language": "python",
   "name": "python3"
  },
  "language_info": {
   "codemirror_mode": {
    "name": "ipython",
    "version": 3
   },
   "file_extension": ".py",
   "mimetype": "text/x-python",
   "name": "python",
   "nbconvert_exporter": "python",
   "pygments_lexer": "ipython3",
   "version": "3.7.3"
  }
 },
 "nbformat": 4,
 "nbformat_minor": 2
}
